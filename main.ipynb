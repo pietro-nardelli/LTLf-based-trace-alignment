{
  "nbformat": 4,
  "nbformat_minor": 2,
  "metadata": {
    "colab": {
      "name": "RA_project.ipynb",
      "provenance": [],
      "collapsed_sections": [],
      "toc_visible": true
    },
    "kernelspec": {
      "name": "python3",
      "display_name": "Python 3.7.7 64-bit ('base': conda)"
    },
    "language_info": {
      "name": "python",
      "version": "3.7.7",
      "mimetype": "text/x-python",
      "codemirror_mode": {
        "name": "ipython",
        "version": 3
      },
      "pygments_lexer": "ipython3",
      "nbconvert_exporter": "python",
      "file_extension": ".py"
    },
    "interpreter": {
      "hash": "fdcf986a19d66663db1a6faed0f4565f39e19bacafb44a8df11b713329195ec3"
    }
  },
  "cells": [
    {
      "cell_type": "markdown",
      "source": [
        "# LTL-f BASED-TRACE ALIGNMENT"
      ],
      "metadata": {
        "id": "N3zltNFvjHqi"
      }
    },
    {
      "cell_type": "markdown",
      "source": [
        "From constraint to LTL-f: http://www.diag.uniroma1.it/degiacom/papers/2014/AAAI14.pdf\n",
        "\n",
        "From LTL-f to DFA: http://ltlf2dfa.diag.uniroma1.it/\n",
        "\n",
        "From LTL-f to automaton: https://github.com/whitemech/logaut\n",
        "\n",
        "LTL2DFA library: https://github.com/whitemech/LTLf2DFA/"
      ],
      "metadata": {
        "id": "xUIgFqBdxqkx"
      }
    },
    {
      "cell_type": "code",
      "execution_count": 1,
      "source": [
        "import re\n",
        "from typing import Match, cast #, Tuple\n",
        "\n",
        "from ltlf2dfa.parser.ltlf import LTLfParser\n",
        "from logaut.backends.common.process_mona_output import (\n",
        "    parse_automaton,\n",
        "    parse_mona_output,\n",
        ")\n",
        "\n",
        "'''from logaut import ltl2dfa\n",
        "from pylogics.parsers import parse_ltl'''"
      ],
      "outputs": [
        {
          "output_type": "execute_result",
          "data": {
            "text/plain": [
              "'from logaut import ltl2dfa\\nfrom pylogics.parsers import parse_ltl'"
            ]
          },
          "metadata": {},
          "execution_count": 1
        }
      ],
      "metadata": {}
    },
    {
      "cell_type": "markdown",
      "source": [
        "## Load xes file\n",
        "containing the trace"
      ],
      "metadata": {
        "id": "I8Qh6gkJjR6R"
      }
    },
    {
      "cell_type": "code",
      "execution_count": 2,
      "source": [
        "log_path = \"dataset/logs/synthetic-logs/10constraints/1-constraint-inverted/log-from-10constr-model-1constr_inverted-1-50.xes\""
      ],
      "outputs": [],
      "metadata": {
        "id": "Otc3Rvi-2wXS"
      }
    },
    {
      "cell_type": "code",
      "execution_count": 3,
      "source": [
        "alphabet = \"abcdefghijklmnopqrstuvwxyz\"\n",
        "voc = {}\n",
        "for i in range(len(alphabet)):\n",
        "    voc[i+1] = alphabet[i]\n",
        "\n",
        "def convertNumberToChar (val):\n",
        "    return voc[val]"
      ],
      "outputs": [],
      "metadata": {}
    },
    {
      "cell_type": "code",
      "execution_count": 4,
      "source": [
        "# Legge dal file .xes, estrapola le tracce, trasforma il valore delle tracce in caratteri,\n",
        "# infine aggiungile al log sottoforma di stringhe\n",
        "def readLog (log_path):\n",
        "    # Inizializzazione variabili\n",
        "    flag = False;           # Indica quando dobbiamo leggere un evento dal file\n",
        "    trace = [];             # Lista di eventi sottoforma di interi\n",
        "    traceChar = [];         # Lista di eventi sottoforma di char\n",
        "    traceString = \"\";       # Stringa composta da eventi sottoforma di char\n",
        "    log = []               # Lista di tracce ognuna delle quali è una stringa di char\n",
        "\n",
        "    # Apriamo il file e leggiamolo riga per riga\n",
        "    f = open  (log_path)\n",
        "    f1 = f.readlines()\n",
        "    \n",
        "    # Per ogni riga del file...\n",
        "    for x in f1:\n",
        "        # Se c'è un evento, attiviamo la flag\n",
        "        if (x.__contains__(\"<event>\")):\n",
        "            flag = True\n",
        "        # Se flag attiva e siamo sulla riga dove è presente il nome dell'evento,\n",
        "        # estrapoliamo il nome dell'evento e appendiamolo a trace\n",
        "        if (flag and x.__contains__('<string key=\"concept:name\"')):\n",
        "            val = x.split('value=\"activity ',1)[1]\n",
        "            val = val.split('\"')[0]                \n",
        "            trace.append(val)\n",
        "            flag = False\n",
        "        # Quando non ci sono più eventi possiamo lavorare sulla traccia in questione\n",
        "        if (x.__contains__(\"</trace>\")):\n",
        "            for event in trace:\n",
        "                traceChar.append(convertNumberToChar(int(event)))  # Converti gli eventi in char \n",
        "            traceString = \"\".join(traceChar)                       # Lista di eventi -> stringa\n",
        "            log.append(traceString)                                # Appendi stringa a log\n",
        "\n",
        "            # Inizializza nuovamente le variabili\n",
        "            trace = []\n",
        "            traceChar = []\n",
        "            traceString = \"\"\n",
        "    return log"
      ],
      "outputs": [],
      "metadata": {
        "id": "944iEX333Q2E"
      }
    },
    {
      "cell_type": "code",
      "execution_count": 5,
      "source": [
        "log = readLog(log_path) # list of traces\n",
        "\n",
        "#trace = log[2]\n",
        "trace = 'stkai'\n",
        "print (trace)"
      ],
      "outputs": [
        {
          "output_type": "stream",
          "name": "stdout",
          "text": [
            "stkai\n"
          ]
        }
      ],
      "metadata": {
        "colab": {
          "base_uri": "https://localhost:8080/"
        },
        "id": "d7ILjAXH3XzJ",
        "outputId": "6ca28027-ffc9-49c6-a083-e798f5350661"
      }
    },
    {
      "cell_type": "markdown",
      "source": [
        "## Trace automaton"
      ],
      "metadata": {
        "id": "a5YU3B8BjWj5"
      }
    },
    {
      "cell_type": "code",
      "execution_count": 6,
      "source": [
        "symbols_trace = list(set(trace))\n",
        "\n",
        "print(trace)\n",
        "print(symbols_trace)"
      ],
      "outputs": [
        {
          "output_type": "stream",
          "name": "stdout",
          "text": [
            "stkai\n",
            "['s', 'a', 't', 'i', 'k']\n"
          ]
        }
      ],
      "metadata": {
        "id": "RjCTwaLFB_7E",
        "colab": {
          "base_uri": "https://localhost:8080/"
        },
        "outputId": "d62b2637-fa77-4ac8-c817-c27a5cce442e"
      }
    },
    {
      "cell_type": "code",
      "execution_count": 7,
      "source": [
        "rho_trace_basic = []           # rho = [[q0, w, q1],[q1,k,q2],...,[..,.,qn-1]]\n",
        "Q_trace = []\n",
        "for i in range(len(trace)):\n",
        "    Q_trace.append('t'+str(i))\n",
        "    rho_trace_basic.append('t'+str(i)+\" \"+trace[i] +\" \"+ 't'+str(i+1))\n",
        "\n",
        "Q_trace.append('t'+str(len(trace)))\n",
        "init_state_trace = Q_trace[0]\n",
        "final_state_trace = Q_trace[-1]\n",
        "\n",
        "print(Q_trace)\n",
        "print(rho_trace_basic)"
      ],
      "outputs": [
        {
          "output_type": "stream",
          "name": "stdout",
          "text": [
            "['t0', 't1', 't2', 't3', 't4', 't5']\n",
            "['t0 s t1', 't1 t t2', 't2 k t3', 't3 a t4', 't4 i t5']\n"
          ]
        }
      ],
      "metadata": {
        "id": "sm0GAMn2apez",
        "colab": {
          "base_uri": "https://localhost:8080/"
        },
        "outputId": "0f54dcb1-0f20-4436-a99c-cceaf6c5f619"
      }
    },
    {
      "cell_type": "markdown",
      "source": [
        "## Constraint automaton"
      ],
      "metadata": {
        "id": "UAFM4Xbhje6l"
      }
    },
    {
      "cell_type": "markdown",
      "source": [
        "**CONSTRAINTS**\n",
        "\n",
        "- [x] Chain precedence activity 16 - 17\n",
        "- [x] Existence activity 1\n",
        "- [x] Precedence activity 9 -10\n",
        "- [x] Responded existence activity 5 - 6\n",
        "- [x] Chain response activity 14 - 15\n",
        "- [x] Not co-existence activity 19 -20\n",
        "- [x] Not succession activity 20 -21\n",
        "- [x] Not chain succession activity 22 - 23\n",
        "- [x] Response activity 11 - 12\n",
        "- [x] Absence2 activity 2\n"
      ],
      "metadata": {
        "id": "CSQa8IzzAWAH"
      }
    },
    {
      "cell_type": "code",
      "execution_count": 8,
      "source": [
        "def postprocess_output(output: str) -> str:\n",
        "    \"\"\"\n",
        "    Post-process MONA output.\n",
        "    Capture the output related to the MONA DFA transitions.\n",
        "    :param: the raw output from the LTLf2DFA tool.\n",
        "    :return: the output associated to the DFA.\n",
        "    \"\"\"\n",
        "    regex = re.compile(\n",
        "        r\".*(?=\\nFormula is (valid|unsatisfiable)|A counter-example)\",\n",
        "        flags=re.MULTILINE | re.DOTALL,\n",
        "    )\n",
        "    match = regex.search(output)\n",
        "    if match is None:\n",
        "        raise Exception(\"cannot find automaton description in MONA output.\")\n",
        "    return cast(Match, regex.search(output)).group(0)"
      ],
      "outputs": [],
      "metadata": {}
    },
    {
      "cell_type": "code",
      "execution_count": 9,
      "source": [
        "parser = LTLfParser()\n",
        "\n",
        "constraint_formulas = {\"existence\":\"F(a)\", \n",
        "                       \"absence2\":\"!(F((b & X(F(b)))))\", \n",
        "                       \"response\":\"G(k -> F(l))\", \n",
        "                       \"precedence\":\"((!(j) U i) | G(!(j)))\",\n",
        "                       \"chain_response\":\"G((n -> X(o)))\", \n",
        "                       \"chain_precedence\": \"(!(q) & G((X(q) -> p)))\",\n",
        "                       \"responded_existence\":\"(F(e) -> F(f))\", \n",
        "                       \"not_coexistence\":\"!((F(s) & F(t)))\", \n",
        "                       \"not_succession\":\"G((t -> !(F(u))))\", \n",
        "                       \"not_chain_succession\":\"G((v <-> !(X(w))))\"}\n",
        "\n",
        "'''\n",
        "for name,f in constraint_formulas.items():\n",
        "    formula = parser(f)       # returns an LTLfFormula\n",
        "    print(formula)\n",
        "\n",
        "    dfa = formula.to_dfa(mona_dfa_out=True)           # prints the DFA in DOT format\n",
        "    dfa_file = open(\"automata/\"+name+\".txt\", \"w\")\n",
        "    dfa_file.write(dfa)\n",
        "    dfa_file.close()\n",
        "\n",
        "    mona_output = parse_mona_output(postprocess_output(dfa))\n",
        "    automaton = parse_automaton(mona_output)\n",
        "    automaton.to_graphviz().render(\"automata/\"+name+\".dfa\", view=True)\n",
        "'''"
      ],
      "outputs": [
        {
          "output_type": "execute_result",
          "data": {
            "text/plain": [
              "'\\nfor name,f in constraint_formulas.items():\\n    formula = parser(f)       # returns an LTLfFormula\\n    print(formula)\\n\\n    dfa = formula.to_dfa(mona_dfa_out=True)           # prints the DFA in DOT format\\n    dfa_file = open(\"automata/\"+name+\".txt\", \"w\")\\n    dfa_file.write(dfa)\\n    dfa_file.close()\\n\\n    mona_output = parse_mona_output(postprocess_output(dfa))\\n    automaton = parse_automaton(mona_output)\\n    automaton.to_graphviz().render(\"automata/\"+name+\".dfa\", view=True)\\n'"
            ]
          },
          "metadata": {},
          "execution_count": 9
        }
      ],
      "metadata": {}
    },
    {
      "cell_type": "code",
      "execution_count": 10,
      "source": [
        "'''constraint_formulas = {\"existence\":\"F(a)\", \"absence2\":\"!(F((b & X(F(b)))))\", \"response\":\"G(k -> F(l))\"}\n",
        "\n",
        "for name,f in constraint_formulas.items():\n",
        "    formula = parse_ltl(f)\n",
        "    dfa = ltl2dfa(formula, backend=\"ltlf2dfa\")\n",
        "    dfa.to_graphviz().render(name+ \".dfa\", view=True)'''"
      ],
      "outputs": [
        {
          "output_type": "execute_result",
          "data": {
            "text/plain": [
              "'constraint_formulas = {\"existence\":\"F(a)\", \"absence2\":\"!(F((b & X(F(b)))))\", \"response\":\"G(k -> F(l))\"}\\n\\nfor name,f in constraint_formulas.items():\\n    formula = parse_ltl(f)\\n    dfa = ltl2dfa(formula, backend=\"ltlf2dfa\")\\n    dfa.to_graphviz().render(name+ \".dfa\", view=True)'"
            ]
          },
          "metadata": {},
          "execution_count": 10
        }
      ],
      "metadata": {}
    },
    {
      "cell_type": "code",
      "execution_count": 11,
      "source": [
        "#constraint_formulas = {\"existence\":\"F(a)\",\"response\":\"G(k -> F(l))\"}\n",
        "\n",
        "symbols_constr = symbols_trace.copy()  \n",
        "\n",
        "index_states = 0\n",
        "Q_constr = {}\n",
        "final_states_constr = {}\n",
        "init_states_constr = {}\n",
        "rejecting_states_constr = {}\n",
        "rho_constr_basic = {}\n",
        "\n",
        "for type_constr,_ in constraint_formulas.items():\n",
        "    Q_constr[type_constr] = []\n",
        "    final_states_constr[type_constr] = []\n",
        "    rejecting_states_constr[type_constr] = []\n",
        "    check_elem = []\n",
        "    rho_constr_basic[type_constr] = []     \n",
        "\n",
        "    dfa_file = open(\"automata/\"+type_constr+\".txt\", \"r\")\n",
        "    for line in dfa_file:\n",
        "        if (\"DFA for formula with free variables\" in line):\n",
        "            start_index = line.find(':') + 2\n",
        "            for c in range(start_index, len(line), 2):\n",
        "                if (line[c] != '\\n'):\n",
        "                    check_elem.append(line[c].lower())\n",
        "                    if (line[c].lower() not in symbols_constr):\n",
        "                        symbols_constr.append(line[c].lower())\n",
        "\n",
        "        if (\"Initial state\" in line):\n",
        "            start_index = line.find(':') + 2\n",
        "            for c in range(start_index, len(line), 2):\n",
        "                if (line[c] != '\\n'):\n",
        "                    init_states_constr[type_constr] = \"s\"+str(int(line[c])+index_states)\n",
        "\n",
        "        if (\"Accepting states\" in line):\n",
        "            start_index = line.find(':') + 2\n",
        "            for c in range(start_index, len(line), 2):\n",
        "                if (line[c] != '\\n'):\n",
        "                    final_states_constr[type_constr].append(\"s\"+str(int(line[c])+index_states))\n",
        "                    Q_constr[type_constr].append(\"s\"+str(int(line[c])+index_states))\n",
        "        if (\"Rejecting states\" in line):\n",
        "            start_index = line.find(':') + 2\n",
        "            for c in range(start_index, len(line), 2):\n",
        "                if (line[c] != '\\n'):\n",
        "                    Q_constr[type_constr].append(\"s\"+str(int(line[c])+index_states))\n",
        "                    rejecting_states_constr[type_constr].append(\"s\"+str(int(line[c])+index_states))\n",
        "        \n",
        "        if (\"State\" in line):\n",
        "            start_index = line.find(':') -1\n",
        "            s_start = \"s\"+str(int(line[start_index])+index_states)\n",
        "            s_end = \"s\"+str(int(line[-2])+index_states)\n",
        "            if (len(check_elem) == 1):\n",
        "                value = line[start_index+3]\n",
        "                for elem in symbols_constr:\n",
        "                    if (value == 'X'):\n",
        "                        rho_constr_basic[type_constr].append(s_start+\" \"+elem+\" \"+s_end)\n",
        "                    if (value == '0'):\n",
        "                        if (elem != check_elem[0]):\n",
        "                            rho_constr_basic[type_constr].append(s_start+\" \"+elem+\" \"+s_end)\n",
        "                    if (value == '1'):\n",
        "                        if (elem == check_elem[0]):\n",
        "                            rho_constr_basic[type_constr].append(s_start+\" \"+elem+\" \"+s_end)\n",
        "            if (len(check_elem) == 2):\n",
        "                value1 = line[start_index+3]\n",
        "                value2 = line[start_index+4]\n",
        "                value = value1+value2\n",
        "                for elem in symbols_constr:\n",
        "                    if (value == 'XX'):\n",
        "                        rho_constr_basic[type_constr].append(s_start+\" \"+elem+\" \"+s_end)\n",
        "                    elif (value == '0X'):\n",
        "                        if (elem != check_elem[0]):\n",
        "                            rho_constr_basic[type_constr].append(s_start+\" \"+elem+\" \"+s_end)\n",
        "                    elif (value == 'X0'):\n",
        "                        if (elem != check_elem[1]):\n",
        "                            rho_constr_basic[type_constr].append(s_start+\" \"+elem+\" \"+s_end)\n",
        "                    elif (value == '1X' or value == '10'):\n",
        "                        if (elem == check_elem[0]):\n",
        "                            rho_constr_basic[type_constr].append(s_start+\" \"+elem+\" \"+s_end)\n",
        "                    elif (value == 'X1' or value == '01'):\n",
        "                        if (elem == check_elem[1]):\n",
        "                            rho_constr_basic[type_constr].append(s_start+\" \"+elem+\" \"+s_end)\n",
        "                    elif (value == '00'):\n",
        "                        if (elem != check_elem[0] and elem != check_elem[1]):\n",
        "                            rho_constr_basic[type_constr].append(s_start+\" \"+elem+\" \"+s_end)\n",
        "        \n",
        "    index_states += len(Q_constr[type_constr])\n",
        "\n",
        "\n",
        "\n",
        "\n",
        "    print (check_elem)\n",
        "    print (Q_constr)\n",
        "    print (final_states_constr)\n",
        "    print (init_states_constr)\n",
        "    print (rejecting_states_constr)\n",
        "    print (symbols_constr)\n",
        "    print (\"____\")\n",
        "    print (index_states)\n",
        "    print (rho_constr_basic[type_constr])\n",
        "    print (\"___________________________\")"
      ],
      "outputs": [
        {
          "output_type": "stream",
          "name": "stdout",
          "text": [
            "['a']\n",
            "{'existence': ['s2', 's0', 's1']}\n",
            "{'existence': ['s2']}\n",
            "{'existence': 's0'}\n",
            "{'existence': ['s0', 's1']}\n",
            "['s', 'a', 't', 'i', 'k']\n",
            "____\n",
            "3\n",
            "['s0 s s1', 's0 a s1', 's0 t s1', 's0 i s1', 's0 k s1', 's1 s s1', 's1 t s1', 's1 i s1', 's1 k s1', 's1 a s2', 's2 s s2', 's2 a s2', 's2 t s2', 's2 i s2', 's2 k s2']\n",
            "___________________________\n",
            "['k', 'l']\n",
            "{'existence': ['s2', 's0', 's1'], 'response': ['s4', 's3', 's5']}\n",
            "{'existence': ['s2'], 'response': ['s4']}\n",
            "{'existence': 's0', 'response': 's3'}\n",
            "{'existence': ['s0', 's1'], 'response': ['s3', 's5']}\n",
            "['s', 'a', 't', 'i', 'k', 'l']\n",
            "____\n",
            "6\n",
            "['s3 s s4', 's3 a s4', 's3 t s4', 's3 i s4', 's3 k s4', 's3 l s4', 's4 s s4', 's4 a s4', 's4 t s4', 's4 i s4', 's4 l s4', 's4 k s5', 's5 s s5', 's5 a s5', 's5 t s5', 's5 i s5', 's5 k s5', 's5 l s4']\n",
            "___________________________\n"
          ]
        }
      ],
      "metadata": {}
    },
    {
      "cell_type": "markdown",
      "source": [
        "## Planning domain D"
      ],
      "metadata": {
        "id": "uQMiCDBijwF_"
      }
    },
    {
      "cell_type": "code",
      "execution_count": 12,
      "source": [
        "domain_name = \"domain_multi\"\n",
        "problem_name = \"problem_multi\""
      ],
      "outputs": [],
      "metadata": {
        "id": "12YBD3nKhH2Y"
      }
    },
    {
      "cell_type": "code",
      "execution_count": 13,
      "source": [
        "pddl_domain_initial = \"(define (domain \"+domain_name+\") \"\\\n",
        "                \"(:requirements :strips :typing :action-costs) \"\\\n",
        "                \"(:types trace_state automaton_state - state activity) \"\n",
        "\n",
        "pddl_domain_predicates = \"(:predicates (trace ?t1 - trace_state \"\\\n",
        "                            \"?e - activity \"\\\n",
        "                            \"?t2 - trace_state) \"\\\n",
        "                            \"(automaton ?s1 - automaton_state \"\\\n",
        "                            \"?e - activity \"\\\n",
        "                            \"?s2 - automaton_state) \"\\\n",
        "                            \"(cur_state ?s - state) \"\\\n",
        "                            \"(final_state ?s - state)) \"\n",
        "\n",
        "\n",
        "pddl_domain_actions =  \"(:action sync \"\\\n",
        "                        \":parameters (?t1 - trace_state ?e - activity ?t2 - trace_state) \"\\\n",
        "                        \":precondition (and (cur_state ?t1) (trace ?t1 ?e ?t2)) \"\\\n",
        "                        \":effect(and (not (cur_state ?t1)) (cur_state ?t2) \"\\\n",
        "                        \"(forall (?s1 ?s2 - automaton_state) \"\\\n",
        "                        \"(when (and (cur_state ?s1) \"\\\n",
        "                        \"(automaton ?s1 ?e ?s2)) \"\\\n",
        "                        \"(and (not (cur_state ?s1)) \"\\\n",
        "                        \"(cur_state ?s2)))))) \"\\\n",
        "                        \"(:action add \"\\\n",
        "                        \":parameters (?e - activity) \"\\\n",
        "                        \":effect (and (increase (total-cost) 1) \"\\\n",
        "                        \"(forall (?s1 ?s2 - automaton_state) \"\\\n",
        "                        \"(when (and (cur_state ?s1) \"\\\n",
        "                        \"(automaton ?s1 ?e ?s2)) \"\\\n",
        "                        \"(and (not (cur_state ?s1)) \"\\\n",
        "                        \"(cur_state ?s2)))))) \"\\\n",
        "                        \"(:action del \"\\\n",
        "                        \":parameters (?t1 - trace_state ?e - activity \"\\\n",
        "                        \"?t2 - trace_state) \"\\\n",
        "                        \":precondition (and (cur_state ?t1) (trace ?t1 ?e ?t2)) \"\\\n",
        "                        \":effect (and (increase (total-cost) 1) \"\\\n",
        "                        \"(not (cur_state ?t1)) (cur_state ?t2))))\"\n",
        "\n",
        "pddl_domain = pddl_domain_initial + pddl_domain_predicates + pddl_domain_actions\n",
        "\n",
        "print (pddl_domain)"
      ],
      "outputs": [
        {
          "output_type": "stream",
          "name": "stdout",
          "text": [
            "(define (domain domain_multi) (:requirements :strips :typing :action-costs) (:types trace_state automaton_state - state activity) (:predicates (trace ?t1 - trace_state ?e - activity ?t2 - trace_state) (automaton ?s1 - automaton_state ?e - activity ?s2 - automaton_state) (cur_state ?s - state) (final_state ?s - state)) (:action sync :parameters (?t1 - trace_state ?e - activity ?t2 - trace_state) :precondition (and (cur_state ?t1) (trace ?t1 ?e ?t2)) :effect(and (not (cur_state ?t1)) (cur_state ?t2) (forall (?s1 ?s2 - automaton_state) (when (and (cur_state ?s1) (automaton ?s1 ?e ?s2)) (and (not (cur_state ?s1)) (cur_state ?s2)))))) (:action add :parameters (?e - activity) :effect (and (increase (total-cost) 1) (forall (?s1 ?s2 - automaton_state) (when (and (cur_state ?s1) (automaton ?s1 ?e ?s2)) (and (not (cur_state ?s1)) (cur_state ?s2)))))) (:action del :parameters (?t1 - trace_state ?e - activity ?t2 - trace_state) :precondition (and (cur_state ?t1) (trace ?t1 ?e ?t2)) :effect (and (increase (total-cost) 1) (not (cur_state ?t1)) (cur_state ?t2))))\n"
          ]
        }
      ],
      "metadata": {
        "colab": {
          "base_uri": "https://localhost:8080/"
        },
        "id": "fq0E10UEQ2KN",
        "outputId": "625d168f-b794-402f-dfc3-6944fe96a730"
      }
    },
    {
      "cell_type": "markdown",
      "source": [
        "## PDDL problem"
      ],
      "metadata": {
        "id": "Gwp1E1FgpgDQ"
      }
    },
    {
      "cell_type": "code",
      "execution_count": 14,
      "source": [
        "symbols = symbols_constr.copy()\n",
        "'''print (Q_trace)\n",
        "print (Q_constr)\n",
        "print (symbols)\n",
        "print (rho_trace_basic)\n",
        "print (rho_constr_basic)'''"
      ],
      "outputs": [
        {
          "output_type": "execute_result",
          "data": {
            "text/plain": [
              "'print (Q_trace)\\nprint (Q_constr)\\nprint (symbols)\\nprint (rho_trace_basic)\\nprint (rho_constr_basic)'"
            ]
          },
          "metadata": {},
          "execution_count": 14
        }
      ],
      "metadata": {
        "colab": {
          "base_uri": "https://localhost:8080/",
          "height": 35
        },
        "id": "Ztj2xof8Xn8o",
        "outputId": "61cd1c81-4d42-49ec-d01c-d432e7824171"
      }
    },
    {
      "cell_type": "code",
      "execution_count": 15,
      "source": [
        "#type_constraints = ['existence', 'absence2', 'response', 'precedence', 'chain_response','responded_existence', 'chain_precedence', 'not_coexistence', 'not_succession', 'not_chain_succession']\n",
        "type_constraints = [\"existence\",\"response\"]\n",
        "\n",
        "pddl_problem_initial = \"(define (problem \"+problem_name+\") (:domain \"+domain_name+\") \"\n",
        "pddl_problem_objects = \"(:objects \"\n",
        "\n",
        "for q in Q_trace:\n",
        "    pddl_problem_objects += q+\" \"\n",
        "pddl_problem_objects += \"- trace_state \"\n",
        "\n",
        "for type_constr in type_constraints:\n",
        "    for q in Q_constr[type_constr]:\n",
        "        pddl_problem_objects += q+\" \"\n",
        "    pddl_problem_objects += \"- automaton_state \"\n",
        "\n",
        "for s in symbols:\n",
        "    pddl_problem_objects += s+\" \"\n",
        "pddl_problem_objects += \"- activity\"\n",
        "\n",
        "pddl_problem_objects += \") \"\n",
        "\n",
        "\n",
        "pddl_problem_init = \"(:init (= (total-cost) 0) (cur_state \"+init_state_trace+\") \"\n",
        "for trace in rho_trace_basic:\n",
        "    pddl_problem_init += \"(trace \"+trace+\") \"\n",
        "pddl_problem_init += \"(final_state \"+final_state_trace+\") \"\n",
        "\n",
        "for type_constr in type_constraints:\n",
        "    pddl_problem_init += \"(cur_state \"+init_states_constr[type_constr]+\") \" \n",
        "    for trace in rho_constr_basic[type_constr]:\n",
        "        pddl_problem_init += \"(automaton \"+trace+\") \"\n",
        "\n",
        "    for i in range(len(final_states_constr[type_constr])):\n",
        "        pddl_problem_init += \"(final_state \"+final_states_constr[type_constr][i]+\") \"\n",
        "pddl_problem_init += \") \"\n",
        "\n",
        "\n",
        "pddl_problem_goal = \"(:goal (forall (?s - state) \"\\\n",
        "                    \"(imply (cur_state ?s) (final_state ?s)))) \"\n",
        "pddl_problem_metric = \"(:metric minimize (total-cost)))\"\n",
        "pddl_problem = pddl_problem_initial + pddl_problem_objects + pddl_problem_init + pddl_problem_goal + pddl_problem_metric\n",
        "print (pddl_problem)"
      ],
      "outputs": [
        {
          "output_type": "stream",
          "name": "stdout",
          "text": [
            "(define (problem problem_multi) (:domain domain_multi) (:objects t0 t1 t2 t3 t4 t5 - trace_state s2 s0 s1 - automaton_state s4 s3 s5 - automaton_state s a t i k l - activity) (:init (= (total-cost) 0) (cur_state t0) (trace t0 s t1) (trace t1 t t2) (trace t2 k t3) (trace t3 a t4) (trace t4 i t5) (final_state t5) (cur_state s0) (automaton s0 s s1) (automaton s0 a s1) (automaton s0 t s1) (automaton s0 i s1) (automaton s0 k s1) (automaton s1 s s1) (automaton s1 t s1) (automaton s1 i s1) (automaton s1 k s1) (automaton s1 a s2) (automaton s2 s s2) (automaton s2 a s2) (automaton s2 t s2) (automaton s2 i s2) (automaton s2 k s2) (final_state s2) (cur_state s3) (automaton s3 s s4) (automaton s3 a s4) (automaton s3 t s4) (automaton s3 i s4) (automaton s3 k s4) (automaton s3 l s4) (automaton s4 s s4) (automaton s4 a s4) (automaton s4 t s4) (automaton s4 i s4) (automaton s4 l s4) (automaton s4 k s5) (automaton s5 s s5) (automaton s5 a s5) (automaton s5 t s5) (automaton s5 i s5) (automaton s5 k s5) (automaton s5 l s4) (final_state s4) ) (:goal (forall (?s - state) (imply (cur_state ?s) (final_state ?s)))) (:metric minimize (total-cost)))\n"
          ]
        }
      ],
      "metadata": {
        "id": "lTG7BH12iLmK",
        "colab": {
          "base_uri": "https://localhost:8080/"
        },
        "outputId": "63a819f9-6cf3-4c67-f077-fff54aea700c"
      }
    },
    {
      "cell_type": "markdown",
      "source": [
        "## Save .pddl files"
      ],
      "metadata": {
        "id": "uHrzmm9kfKcO"
      }
    },
    {
      "cell_type": "code",
      "execution_count": 16,
      "source": [
        "file1 = open(\"PDDL/\"+domain_name+\".pddl\", \"w\")\n",
        "file1.write(pddl_domain)\n",
        "file1.close()\n",
        "\n",
        "file2 = open(\"PDDL/\"+problem_name+\".pddl\", \"w\")\n",
        "file2.write(pddl_problem)\n",
        "file2.close()"
      ],
      "outputs": [],
      "metadata": {
        "id": "NTBIHF3dfMMT"
      }
    },
    {
      "cell_type": "markdown",
      "source": [
        "Fast-downward planner:\n",
        "`./fast-downward.py domain_multi.pddl problem_multi.pddl --search \"astar(blind())\"`"
      ],
      "metadata": {}
    }
  ]
}