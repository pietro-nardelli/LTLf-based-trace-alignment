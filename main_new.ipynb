{
  "nbformat": 4,
  "nbformat_minor": 2,
  "metadata": {
    "colab": {
      "name": "RA_project.ipynb",
      "provenance": [],
      "collapsed_sections": [],
      "toc_visible": true
    },
    "kernelspec": {
      "name": "python3",
      "display_name": "Python 3.8.8 64-bit ('base': conda)"
    },
    "language_info": {
      "name": "python",
      "version": "3.8.8",
      "mimetype": "text/x-python",
      "codemirror_mode": {
        "name": "ipython",
        "version": 3
      },
      "pygments_lexer": "ipython3",
      "nbconvert_exporter": "python",
      "file_extension": ".py"
    },
    "interpreter": {
      "hash": "da65825a160f90d23b1552c1b09cfcae4ade59ffe0052a72d5f8001054c797a0"
    }
  },
  "cells": [
    {
      "cell_type": "markdown",
      "source": [
        "# LTL-f BASED-TRACE ALIGNMENT"
      ],
      "metadata": {
        "id": "N3zltNFvjHqi"
      }
    },
    {
      "cell_type": "markdown",
      "source": [
        "From constraint to LTL-f: http://www.diag.uniroma1.it/degiacom/papers/2014/AAAI14.pdf\n",
        "\n",
        "From LTL-f to DFA: http://ltlf2dfa.diag.uniroma1.it/\n",
        "\n",
        "From LTL-f to automaton: https://github.com/whitemech/logaut\n",
        "\n",
        "LTL2DFA library: https://github.com/whitemech/LTLf2DFA/"
      ],
      "metadata": {
        "id": "xUIgFqBdxqkx"
      }
    },
    {
      "cell_type": "code",
      "execution_count": 1,
      "source": [
        "import re\n",
        "from typing import Match, cast\n",
        "\n",
        "from ltlf2dfa.parser.ltlf import LTLfParser\n",
        "from logaut.backends.common.process_mona_output import (\n",
        "    parse_automaton,\n",
        "    parse_mona_output,\n",
        ")\n",
        "from logaut.backends.ltlf2dfa.core import postprocess_output"
      ],
      "outputs": [],
      "metadata": {}
    },
    {
      "cell_type": "markdown",
      "source": [
        "## Constraint automaton"
      ],
      "metadata": {
        "id": "UAFM4Xbhje6l"
      }
    },
    {
      "cell_type": "markdown",
      "source": [
        "**CONSTRAINTS**\n",
        "\n",
        "- [x] Chain precedence activity 16 - 17\n",
        "- [x] Existence activity 1\n",
        "- [x] Precedence activity 9 -10\n",
        "- [x] Responded existence activity 5 - 6\n",
        "- [x] Chain response activity 14 - 15\n",
        "- [x] Not co-existence activity 19 -20\n",
        "- [x] Not succession activity 20 -21\n",
        "- [x] Not chain succession activity 22 - 23\n",
        "- [x] Response activity 11 - 12\n",
        "- [x] Absence2 activity 2\n"
      ],
      "metadata": {
        "id": "CSQa8IzzAWAH"
      }
    },
    {
      "cell_type": "code",
      "execution_count": 2,
      "source": [
        "parser = LTLfParser()\n",
        "\n",
        "\n",
        "constraint_formulas = {\"existence\":\"F(a)\", \n",
        "                       \"absence2\":\"!(F((b & X(F(b)))))\", \n",
        "                       \"response\":\"G(k -> F(l))\", \n",
        "                       \"precedence\":\"((!(j) U i) | G(!(j)))\",\n",
        "                       \"chain_response\":\"G((n -> X(o)))\", \n",
        "                       \"chain_precedence\": \"(!(q) & G((X(q) -> p)))\",\n",
        "                       \"responded_existence\":\"(F(e) -> F(f))\", \n",
        "                       \"not_coexistence\":\"!((F(s) & F(t)))\", \n",
        "                       \"not_succession\":\"G((t -> !(F(u))))\", \n",
        "                       \"not_chain_succession\":\"G((v <-> !(X(w))))\",\n",
        "                       \"formula_inventata\":\"(F(a) & F(b)) -> G(c)\"}\n",
        "'''\n",
        "constraint_formulas = {\"existence\":\"F(a)\", \n",
        "                       \"absence2\":\"!(F((b & X(F(b)))))\"}\n",
        "'''"
      ],
      "outputs": [
        {
          "output_type": "execute_result",
          "data": {
            "text/plain": [
              "'\\nconstraint_formulas = {\"existence\":\"F(a)\", \\n                       \"absence2\":\"!(F((b & X(F(b)))))\"}\\n'"
            ]
          },
          "metadata": {},
          "execution_count": 2
        }
      ],
      "metadata": {}
    },
    {
      "cell_type": "code",
      "execution_count": 3,
      "source": [
        "index = 1\n",
        "\n",
        "all_automata = {}\n",
        "\n",
        "for type_constr,f in constraint_formulas.items():\n",
        "    build_automaton = {}\n",
        "    build_automaton[\"name\"] = type_constr\n",
        "    build_automaton[\"formula\"] = f\n",
        "\n",
        "    all_states_constr = []\n",
        "    final_states_constr = []\n",
        "    init_states_constr = []\n",
        "    rejecting_states_constr = []\n",
        "    rho_constr_basic = []\n",
        "    rho_tobe_negated = []\n",
        "\n",
        "    ## Parser + dfa #####################################################\n",
        "    formula = parser(f)       # returns an LTLfFormula\n",
        "    dfa = formula.to_dfa(mona_dfa_out=True)\n",
        "    mona_output = parse_mona_output(dfa) # parse_mona_output(postprocess_output(dfa))\n",
        "    #automaton = parse_automaton(mona_output)\n",
        "    #automaton.to_graphviz().render(\"automata/\"+type_constr+\".dfa\", view=True)\n",
        "\n",
        "    ## save all what is needed ##########################################\n",
        "    init_states_constr = 's1'\n",
        "    \n",
        "    states = set.union(mona_output.rejecting_states, mona_output.accepting_states)\n",
        "    states.remove(0)\n",
        "    states = list(states)\n",
        "    for elem in states:\n",
        "        all_states_constr.append('s'+str(elem))\n",
        "\n",
        "    for elem in list(mona_output.accepting_states):\n",
        "        final_states_constr.append('s'+str(elem))\n",
        "\n",
        "    alphabet = mona_output.variable_names\n",
        "\n",
        "    for key,elem in mona_output.transitions.items():\n",
        "        s_start = key\n",
        "        if(s_start != 0):\n",
        "            for k,e in elem.items():\n",
        "                s_end = k\n",
        "                sum = 0\n",
        "                if(s_end != s_start):\n",
        "                    comb = list(e)[0]\n",
        "                    for char in comb:\n",
        "                        if(char!='X'):\n",
        "                            sum += int(char)\n",
        "                    if(sum > 1):\n",
        "                        continue\n",
        "                    elif(sum == 1):\n",
        "                        index1 = comb.find('1')\n",
        "                        rho_constr_basic.append(\"s\"+str(s_start)+\" \"+alphabet[index1]+\" s\"+str(s_end))\n",
        "                    elif(sum == 0):\n",
        "                        indeces0 = [i for i in range(len(comb)) if comb[i] in '0']\n",
        "                        res_list = [alphabet[i] for i in indeces0]\n",
        "                        rho_tobe_negated.append([s_start,s_end,res_list])                 \n",
        "\n",
        "\n",
        "    build_automaton[\"all_states\"] = all_states_constr\n",
        "    build_automaton[\"final_states\"] = final_states_constr\n",
        "    build_automaton[\"init_state\"] = init_states_constr\n",
        "    build_automaton[\"transitions\"] = rho_constr_basic\n",
        "    build_automaton[\"symbols_constr\"] = alphabet\n",
        "    build_automaton[\"negated_transitions\"] = rho_tobe_negated\n",
        "\n",
        "    all_automata[\"a\"+str(index)] = build_automaton\n",
        "\n",
        "    index += 1"
      ],
      "outputs": [
        {
          "output_type": "stream",
          "name": "stdout",
          "text": [
            "MONAOutput(nb_states=3, variable_names=('A',), initial_state=0, accepting_states={2}, rejecting_states={0, 1}, transitions={0: {1: {'X'}}, 1: {1: {'0'}, 2: {'1'}}, 2: {2: {'X'}}})\n",
            "MONAOutput(nb_states=4, variable_names=('B',), initial_state=0, accepting_states={1, 2}, rejecting_states={0, 3}, transitions={0: {1: {'X'}}, 1: {1: {'0'}, 2: {'1'}}, 2: {2: {'0'}, 3: {'1'}}, 3: {3: {'X'}}})\n",
            "MONAOutput(nb_states=3, variable_names=('K', 'L'), initial_state=0, accepting_states={1}, rejecting_states={0, 2}, transitions={0: {1: {'XX'}}, 1: {1: {'11', '0X'}, 2: {'10'}}, 2: {2: {'X0'}, 1: {'X1'}}})\n",
            "MONAOutput(nb_states=4, variable_names=('J', 'I'), initial_state=0, accepting_states={1, 2}, rejecting_states={0, 3}, transitions={0: {1: {'XX'}}, 1: {1: {'00'}, 2: {'11', '01'}, 3: {'10'}}, 2: {2: {'XX'}}, 3: {3: {'XX'}}})\n",
            "MONAOutput(nb_states=4, variable_names=('N', 'O'), initial_state=0, accepting_states={1}, rejecting_states={0, 2, 3}, transitions={0: {1: {'XX'}}, 1: {1: {'0X'}, 2: {'1X'}}, 2: {3: {'10', '00'}, 1: {'01'}, 2: {'11'}}, 3: {3: {'XX'}}})\n",
            "MONAOutput(nb_states=4, variable_names=('Q', 'P'), initial_state=0, accepting_states={1, 2}, rejecting_states={0, 3}, transitions={0: {1: {'XX'}}, 1: {1: {'00'}, 2: {'01'}, 3: {'1X'}}, 2: {1: {'X0'}, 2: {'X1'}}, 3: {3: {'XX'}}})\n",
            "MONAOutput(nb_states=4, variable_names=('E', 'F'), initial_state=0, accepting_states={1, 2}, rejecting_states={0, 3}, transitions={0: {1: {'XX'}}, 1: {1: {'00'}, 2: {'11', '01'}, 3: {'10'}}, 2: {2: {'XX'}}, 3: {3: {'X0'}, 2: {'X1'}}})\n",
            "MONAOutput(nb_states=5, variable_names=('S', 'T'), initial_state=0, accepting_states={1, 2, 3}, rejecting_states={0, 4}, transitions={0: {1: {'XX'}}, 1: {1: {'00'}, 2: {'01'}, 3: {'10'}, 4: {'11'}}, 2: {2: {'0X'}, 4: {'1X'}}, 3: {3: {'X0'}, 4: {'X1'}}, 4: {4: {'XX'}}})\n",
            "MONAOutput(nb_states=4, variable_names=('T', 'U'), initial_state=0, accepting_states={1, 2}, rejecting_states={0, 3}, transitions={0: {1: {'XX'}}, 1: {1: {'0X'}, 2: {'10'}, 3: {'11'}}, 2: {2: {'X0'}, 3: {'X1'}}, 3: {3: {'XX'}}})\n",
            "MONAOutput(nb_states=5, variable_names=('V', 'W'), initial_state=0, accepting_states={1, 3}, rejecting_states={0, 2, 4}, transitions={0: {1: {'XX'}}, 1: {2: {'0X'}, 3: {'1X'}}, 2: {4: {'10', '00'}, 2: {'01'}, 3: {'11'}}, 3: {2: {'00'}, 4: {'11', '01'}, 3: {'10'}}, 4: {4: {'XX'}}})\n",
            "MONAOutput(nb_states=9, variable_names=('A', 'B', 'C'), initial_state=0, accepting_states={1, 2, 3, 4, 5, 6, 8}, rejecting_states={0, 7}, transitions={0: {1: {'XXX'}}, 1: {2: {'000'}, 1: {'001'}, 3: {'010'}, 4: {'011'}, 5: {'100'}, 6: {'101'}, 7: {'110'}, 8: {'111'}}, 2: {2: {'00X'}, 3: {'01X'}, 5: {'10X'}, 7: {'11X'}}, 3: {3: {'0XX'}, 7: {'1XX'}}, 4: {3: {'0X0'}, 4: {'0X1'}, 7: {'1X0'}, 8: {'1X1'}}, 5: {5: {'X0X'}, 7: {'X1X'}}, 6: {5: {'X00'}, 6: {'X01'}, 7: {'X10'}, 8: {'X11'}}, 7: {7: {'XXX'}}, 8: {7: {'XX0'}, 8: {'XX1'}}})\n"
          ]
        }
      ],
      "metadata": {}
    },
    {
      "cell_type": "markdown",
      "source": [
        "## Load xes file\n",
        "containing the trace"
      ],
      "metadata": {
        "id": "I8Qh6gkJjR6R"
      }
    },
    {
      "cell_type": "code",
      "execution_count": null,
      "source": [
        "log_path = \"dataset/logs/synthetic-logs/10constraints/1-constraint-inverted/log-from-10constr-model-1constr_inverted-1-50.xes\""
      ],
      "outputs": [],
      "metadata": {
        "id": "Otc3Rvi-2wXS"
      }
    },
    {
      "cell_type": "code",
      "execution_count": null,
      "source": [
        "alphabet = \"ABCDEFGHIJKLMNOPQRSTUVWXYZ\"\n",
        "voc = {}\n",
        "for i in range(len(alphabet)):\n",
        "    voc[i+1] = alphabet[i]\n",
        "\n",
        "def convertNumberToChar (val):\n",
        "    return voc[val]"
      ],
      "outputs": [],
      "metadata": {}
    },
    {
      "cell_type": "code",
      "execution_count": null,
      "source": [
        "# Legge dal file .xes, estrapola le tracce, trasforma il valore delle tracce in caratteri,\n",
        "# infine aggiungile al log sottoforma di stringhe\n",
        "def readLog (log_path):\n",
        "    # Inizializzazione variabili\n",
        "    flag = False;           # Indica quando dobbiamo leggere un evento dal file\n",
        "    trace = [];             # Lista di eventi sottoforma di interi\n",
        "    traceChar = [];         # Lista di eventi sottoforma di char\n",
        "    traceString = \"\";       # Stringa composta da eventi sottoforma di char\n",
        "    log = []               # Lista di tracce ognuna delle quali è una stringa di char\n",
        "\n",
        "    # Apriamo il file e leggiamolo riga per riga\n",
        "    f = open  (log_path)\n",
        "    f1 = f.readlines()\n",
        "    \n",
        "    # Per ogni riga del file...\n",
        "    for x in f1:\n",
        "        # Se c'è un evento, attiviamo la flag\n",
        "        if (x.__contains__(\"<event>\")):\n",
        "            flag = True\n",
        "        # Se flag attiva e siamo sulla riga dove è presente il nome dell'evento,\n",
        "        # estrapoliamo il nome dell'evento e appendiamolo a trace\n",
        "        if (flag and x.__contains__('<string key=\"concept:name\"')):\n",
        "            val = x.split('value=\"activity ',1)[1]\n",
        "            val = val.split('\"')[0]                \n",
        "            trace.append(val)\n",
        "            flag = False\n",
        "        # Quando non ci sono più eventi possiamo lavorare sulla traccia in questione\n",
        "        if (x.__contains__(\"</trace>\")):\n",
        "            for event in trace:\n",
        "                traceChar.append(convertNumberToChar(int(event)))  # Converti gli eventi in char \n",
        "            traceString = \"\".join(traceChar)                       # Lista di eventi -> stringa\n",
        "            log.append(traceString)                                # Appendi stringa a log\n",
        "\n",
        "            # Inizializza nuovamente le variabili\n",
        "            trace = []\n",
        "            traceChar = []\n",
        "            traceString = \"\"\n",
        "    return log"
      ],
      "outputs": [],
      "metadata": {
        "id": "944iEX333Q2E"
      }
    },
    {
      "cell_type": "code",
      "execution_count": null,
      "source": [
        "log = readLog(log_path) # list of traces"
      ],
      "outputs": [],
      "metadata": {
        "colab": {
          "base_uri": "https://localhost:8080/"
        },
        "id": "d7ILjAXH3XzJ",
        "outputId": "6ca28027-ffc9-49c6-a083-e798f5350661"
      }
    },
    {
      "cell_type": "markdown",
      "source": [
        "## Trace automaton"
      ],
      "metadata": {}
    },
    {
      "cell_type": "code",
      "execution_count": null,
      "source": [
        "#traces_log = log\n",
        "traces_log = ['ASTABIB']\n",
        "\n",
        "all_traces = []\n",
        "\n",
        "for t in traces_log:\n",
        "    trace = {}\n",
        "    \n",
        "    symbols_trace = list(set(t))\n",
        "    \n",
        "    ## Build trace automaton ###################################\n",
        "    rho_trace_basic = []\n",
        "    Q_trace = []\n",
        "    for i in range(len(t)):\n",
        "        Q_trace.append('t'+str(i))\n",
        "        rho_trace_basic.append('t'+str(i)+\" \"+t[i] +\" \"+ 't'+str(i+1))\n",
        "\n",
        "    Q_trace.append('t'+str(len(t)))\n",
        "    init_state_trace = Q_trace[0]\n",
        "    final_state_trace = Q_trace[-1]\n",
        "\n",
        "    trace[\"symbols_trace\"] = symbols_trace\n",
        "    trace[\"init_state_trace\"] = init_state_trace\n",
        "    trace[\"final_state_trace\"] = final_state_trace\n",
        "    trace[\"Q_trace\"] = Q_trace\n",
        "    trace[\"rho_trace_basic\"] = rho_trace_basic\n",
        "\n",
        "    all_traces.append(trace)\n",
        "\n",
        "    ## Now we add the transitions for the negated symbols ######\n",
        "\n",
        "    for ID,automaton in all_automata.items():\n",
        "        symb_constr = set(automaton[\"symbols_constr\"])\n",
        "        symb_trace = set(symbols_trace)\n",
        "        all_symbs = list(set.union(symb_constr, symb_trace))\n",
        "\n",
        "        trans = automaton[\"transitions\"]\n",
        "        for t_neg in automaton[\"negated_transitions\"]:\n",
        "            symbs = all_symbs.copy()\n",
        "            for t in t_neg[2]:\n",
        "                symbs.remove(t)\n",
        "            for elem in symbs:\n",
        "                if (\"s\"+str(t_neg[0])+\" \"+elem+\" s\"+str(t_neg[1]) not in trans):\n",
        "                    trans.append(\"s\"+str(t_neg[0])+\" \"+elem+\" s\"+str(t_neg[1]))\n",
        "\n",
        "        automaton[\"transitions\"] = trans"
      ],
      "outputs": [],
      "metadata": {}
    },
    {
      "cell_type": "markdown",
      "source": [
        "## Preliminary steps for PDDL"
      ],
      "metadata": {
        "id": "uQMiCDBijwF_"
      }
    },
    {
      "cell_type": "code",
      "execution_count": null,
      "source": [
        "import random\n",
        "trace = all_traces[random.randint(0,len(all_traces)-1)]"
      ],
      "outputs": [],
      "metadata": {}
    },
    {
      "cell_type": "code",
      "execution_count": null,
      "source": [
        "M = 0\n",
        "for ID,a in all_automata.items():\n",
        "    i = len(a['all_states'])\n",
        "    if (i >= M):\n",
        "        M = i\n",
        "        index_max = ID\n",
        "all_states_constr_max = all_automata[index_max]['all_states'] \n",
        "\n",
        "symbols_tot = []\n",
        "for ID,a in all_automata.items():\n",
        "    for s in a[\"symbols_constr\"]:\n",
        "        symbols_tot.append(s)\n",
        "symbols_tot = list(set(symbols_tot).union(set(trace[\"symbols_trace\"])))"
      ],
      "outputs": [],
      "metadata": {}
    },
    {
      "cell_type": "markdown",
      "source": [
        "## Planning domain D"
      ],
      "metadata": {}
    },
    {
      "cell_type": "code",
      "execution_count": null,
      "source": [
        "domain_name = \"domain_multi\"\n",
        "problem_name = \"problem_multi\""
      ],
      "outputs": [],
      "metadata": {
        "id": "12YBD3nKhH2Y"
      }
    },
    {
      "cell_type": "code",
      "execution_count": null,
      "source": [
        "pddl_domain_initial = \"(define (domain \"+domain_name+\") \"\\\n",
        "                \"(:requirements :strips :typing :action-costs) \"\\\n",
        "                \"(:types trace_state automaton_state - state activity automaton_name) \"\n",
        "\n",
        "pddl_domain_predicates = \"(:predicates (trace ?t1 - trace_state \"\\\n",
        "                            \"?e - activity \"\\\n",
        "                            \"?t2 - trace_state) \"\\\n",
        "                            \"(automaton ?a1 - automaton_name \"\\\n",
        "                            \"?s1 - automaton_state \"\\\n",
        "                            \"?e - activity \"\\\n",
        "                            \"?s2 - automaton_state) \"\\\n",
        "                            \"(cur_state ?a1 - automaton_name ?s - state) \"\\\n",
        "                            \"(final_state ?a1 - automaton_name ?s - state)) \"\\\n",
        "                            \"(:functions (total-cost)) \"\n",
        "\n",
        "\n",
        "pddl_domain_actions =  \"(:action sync \"\\\n",
        "                        \":parameters (?t1 - trace_state ?e - activity ?t2 - trace_state ?a1 - automaton_name) \"\\\n",
        "                        \":precondition (and (cur_state ?a1 ?t1) (trace ?t1 ?e ?t2)) \"\\\n",
        "                        \":effect (and (not (cur_state ?a1 ?t1)) (cur_state ?a1 ?t2) \"\\\n",
        "                        \"(forall (?a1 - automaton_name ?s1 ?s2 - automaton_state) \"\\\n",
        "                        \"(when (and (cur_state ?a1 ?s1) \"\\\n",
        "                        \"(automaton ?a1 ?s1 ?e ?s2)) \"\\\n",
        "                        \"(and (not (cur_state ?a1 ?s1)) \"\\\n",
        "                        \"(cur_state ?a1 ?s2)))))) \"\\\n",
        "                        \"(:action add \"\\\n",
        "                        \":parameters (?e - activity ?a1 - automaton_name ?s1 ?s2 - state) \"\\\n",
        "                        \":effect (and (increase (total-cost) 1) \"\\\n",
        "                        \"(forall (?a1 - automaton_name ?s1 ?s2 - automaton_state) \"\\\n",
        "                        \"(when (and (cur_state ?a1 ?s1) \"\\\n",
        "                        \"(automaton ?a1 ?s1 ?e ?s2)) \"\\\n",
        "                        \"(and (not (cur_state ?a1 ?s1)) \"\\\n",
        "                        \"(cur_state ?a1 ?s2)))))) \"\\\n",
        "                        \"(:action del \"\\\n",
        "                        \":parameters (?t1 - trace_state ?e - activity \"\\\n",
        "                        \"?t2 - trace_state ?a1 - automaton_name) \"\\\n",
        "                        \":precondition (and (cur_state ?a1 ?t1) (trace ?t1 ?e ?t2)) \"\\\n",
        "                        \":effect (and (increase (total-cost) 1) \"\\\n",
        "                        \"(not (cur_state ?a1 ?t1)) (cur_state ?a1 ?t2))))\"\n",
        "\n",
        "pddl_domain = pddl_domain_initial + pddl_domain_predicates + pddl_domain_actions\n",
        "\n",
        "print (pddl_domain)"
      ],
      "outputs": [],
      "metadata": {
        "colab": {
          "base_uri": "https://localhost:8080/"
        },
        "id": "fq0E10UEQ2KN",
        "outputId": "625d168f-b794-402f-dfc3-6944fe96a730"
      }
    },
    {
      "cell_type": "markdown",
      "source": [
        "## PDDL problem"
      ],
      "metadata": {
        "id": "Gwp1E1FgpgDQ"
      }
    },
    {
      "cell_type": "code",
      "execution_count": null,
      "source": [
        "pddl_problem_initial = \"(define (problem \"+problem_name+\") (:domain \"+domain_name+\") \"\n",
        "pddl_problem_objects = \"(:objects \"\n",
        "\n",
        "for q in trace[\"Q_trace\"]:\n",
        "    pddl_problem_objects += q+\" \"\n",
        "pddl_problem_objects += \"- trace_state \"\n",
        "\n",
        "\n",
        "for q in all_states_constr_max:\n",
        "    pddl_problem_objects += q+\" \"\n",
        "pddl_problem_objects += \"- automaton_state a0 \"\n",
        "\n",
        "\n",
        "for ID, a in all_automata.items():\n",
        "    pddl_problem_objects += ID+\" \"\n",
        "pddl_problem_objects += \"- automaton_name \"\n",
        "\n",
        "\n",
        "for s in symbols_tot:\n",
        "    pddl_problem_objects += s+\" \"\n",
        "pddl_problem_objects += \"- activity\"\n",
        "\n",
        "pddl_problem_objects += \") \"\n",
        "\n",
        "\n",
        "pddl_problem_init = \"(:init (= (total-cost) 0) (cur_state a0 \"+trace[\"init_state_trace\"]+\") \"\n",
        "for t in trace[\"rho_trace_basic\"]:\n",
        "    pddl_problem_init += \"(trace \"+t+\") \"\n",
        "pddl_problem_init += \"(final_state a0 \"+trace[\"final_state_trace\"]+\") \"\n",
        "\n",
        "for ID, a in all_automata.items():\n",
        "    pddl_problem_init += \"(cur_state \"+ID+\" \"+a[\"init_state\"]+\") \" \n",
        "    for t in a[\"transitions\"]:\n",
        "        pddl_problem_init += \"(automaton \"+ID+\" \"+t+\") \"\n",
        "\n",
        "    for i in range(len(a[\"final_states\"])):\n",
        "        pddl_problem_init += \"(final_state \"+ID+\" \"+a[\"final_states\"][i]+\") \"\n",
        "pddl_problem_init += \") \"\n",
        "\n",
        "\n",
        "pddl_problem_goal = \"(:goal (forall (?a - automaton_name ?s - state) \"\\\n",
        "                    \"(imply (cur_state ?a ?s) (final_state ?a ?s)))) \"\n",
        "pddl_problem_metric = \"(:metric minimize (total-cost)))\"\n",
        "pddl_problem = pddl_problem_initial + pddl_problem_objects + pddl_problem_init + pddl_problem_goal + pddl_problem_metric\n",
        "print (pddl_problem)"
      ],
      "outputs": [],
      "metadata": {
        "id": "lTG7BH12iLmK",
        "colab": {
          "base_uri": "https://localhost:8080/"
        },
        "outputId": "63a819f9-6cf3-4c67-f077-fff54aea700c"
      }
    },
    {
      "cell_type": "markdown",
      "source": [
        "## Save .pddl files"
      ],
      "metadata": {
        "id": "uHrzmm9kfKcO"
      }
    },
    {
      "cell_type": "code",
      "execution_count": null,
      "source": [
        "file1 = open(\"PDDL/\"+domain_name+\".pddl\", \"w\")\n",
        "file1.write(pddl_domain)\n",
        "file1.close()\n",
        "\n",
        "file2 = open(\"PDDL/\"+problem_name+\".pddl\", \"w\")\n",
        "file2.write(pddl_problem)\n",
        "file2.close()"
      ],
      "outputs": [],
      "metadata": {
        "id": "NTBIHF3dfMMT"
      }
    },
    {
      "cell_type": "markdown",
      "source": [
        "Fast-downward planner:\n",
        "`./fast-downward.py domain_multi.pddl problem_multi.pddl --search \"astar(blind())\"`"
      ],
      "metadata": {}
    }
  ]
}