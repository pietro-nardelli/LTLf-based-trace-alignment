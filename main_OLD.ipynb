{
  "nbformat": 4,
  "nbformat_minor": 2,
  "metadata": {
    "colab": {
      "name": "RA_project.ipynb",
      "provenance": [],
      "collapsed_sections": [],
      "toc_visible": true
    },
    "kernelspec": {
      "name": "python3",
      "display_name": "Python 3.8.8 64-bit ('base': conda)"
    },
    "language_info": {
      "name": "python",
      "version": "3.8.8",
      "mimetype": "text/x-python",
      "codemirror_mode": {
        "name": "ipython",
        "version": 3
      },
      "pygments_lexer": "ipython3",
      "nbconvert_exporter": "python",
      "file_extension": ".py"
    },
    "interpreter": {
      "hash": "da65825a160f90d23b1552c1b09cfcae4ade59ffe0052a72d5f8001054c797a0"
    }
  },
  "cells": [
    {
      "cell_type": "markdown",
      "source": [
        "# LTL-f BASED-TRACE ALIGNMENT"
      ],
      "metadata": {
        "id": "N3zltNFvjHqi"
      }
    },
    {
      "cell_type": "markdown",
      "source": [
        "From constraint to LTL-f: http://www.diag.uniroma1.it/degiacom/papers/2014/AAAI14.pdf\n",
        "\n",
        "From LTL-f to DFA: http://ltlf2dfa.diag.uniroma1.it/\n",
        "\n",
        "From LTL-f to automaton: https://github.com/whitemech/logaut\n",
        "\n",
        "LTL2DFA library: https://github.com/whitemech/LTLf2DFA/"
      ],
      "metadata": {
        "id": "xUIgFqBdxqkx"
      }
    },
    {
      "cell_type": "code",
      "execution_count": 1,
      "source": [
        "import re\n",
        "from typing import Match, cast\n",
        "import copy\n",
        "\n",
        "from ltlf2dfa.parser.ltlf import LTLfParser\n",
        "from logaut.backends.common.process_mona_output import (\n",
        "    parse_automaton,\n",
        "    parse_mona_output,\n",
        ")\n",
        "from logaut.backends.ltlf2dfa.core import postprocess_output"
      ],
      "outputs": [],
      "metadata": {}
    },
    {
      "cell_type": "markdown",
      "source": [
        "## Constraint automaton"
      ],
      "metadata": {
        "id": "UAFM4Xbhje6l"
      }
    },
    {
      "cell_type": "markdown",
      "source": [
        "**CONSTRAINTS**\n",
        "\n",
        "- [x] Chain precedence activity 16 - 17\n",
        "- [x] Existence activity 1\n",
        "- [x] Precedence activity 9 -10\n",
        "- [x] Responded existence activity 5 - 6\n",
        "- [x] Chain response activity 14 - 15\n",
        "- [x] Not co-existence activity 19 -20\n",
        "- [x] Not succession activity 20 -21\n",
        "- [x] Not chain succession activity 22 - 23\n",
        "- [x] Response activity 11 - 12\n",
        "- [x] Absence2 activity 2\n"
      ],
      "metadata": {
        "id": "CSQa8IzzAWAH"
      }
    },
    {
      "cell_type": "code",
      "execution_count": 2,
      "source": [
        "parser = LTLfParser()\n",
        "\n",
        "constraint_formulas = {\"existence\":\"F(a)\", \n",
        "                       \"absence2\":\"!(F((b & X(F(b)))))\", \n",
        "                       \"response\":\"G(k -> F(l))\", \n",
        "                       \"precedence\":\"((!(j) U i) | G(!(j)))\",\n",
        "                       \"chain_response\":\"G((n -> X(o)))\", \n",
        "                       \"chain_precedence\": \"(!(q) & G((X(q) -> p)))\",\n",
        "                       \"responded_existence\":\"(F(e) -> F(f))\", \n",
        "                       \"not_coexistence\":\"!((F(s) & F(t)))\", \n",
        "                       \"not_succession\":\"G((t -> !(F(u))))\", \n",
        "                       \"not_chain_succession\":\"G((v <-> !(X(w))))\",\n",
        "                       \"formula_inventata\":\"(F(a) & F(b)) -> G(c)\"}"
      ],
      "outputs": [],
      "metadata": {}
    },
    {
      "cell_type": "code",
      "execution_count": 3,
      "source": [
        "index = 1\n",
        "\n",
        "all_automata = {}\n",
        "\n",
        "for type_constr,f in constraint_formulas.items():\n",
        "    build_automaton = {}\n",
        "    build_automaton[\"name\"] = type_constr\n",
        "    build_automaton[\"formula\"] = f\n",
        "\n",
        "    all_states_constr = []\n",
        "    final_states_constr = []\n",
        "    init_states_constr = []\n",
        "    rejecting_states_constr = []\n",
        "    rho_constr_basic = []\n",
        "    rho_tobe_negated = []\n",
        "\n",
        "    ## Parser + dfa #####################################################\n",
        "    formula = parser(f)       # returns an LTLfFormula\n",
        "    dfa = formula.to_dfa(mona_dfa_out=True)\n",
        "    mona_output = parse_mona_output(dfa) # parse_mona_output(postprocess_output(dfa))\n",
        "    #automaton = parse_automaton(mona_output)\n",
        "    #automaton.to_graphviz().render(\"automata/\"+type_constr+\".dfa\", view=True)\n",
        "\n",
        "    ## save all what is needed ##########################################\n",
        "    init_states_constr = 's1'\n",
        "    \n",
        "    states = set.union(mona_output.rejecting_states, mona_output.accepting_states)\n",
        "    states.remove(0)\n",
        "    states = list(states)\n",
        "    for elem in states:\n",
        "        all_states_constr.append('s'+str(elem))\n",
        "\n",
        "    for elem in list(mona_output.accepting_states):\n",
        "        final_states_constr.append('s'+str(elem))\n",
        "\n",
        "    alphabet = mona_output.variable_names\n",
        "\n",
        "    for key,elem in mona_output.transitions.items():\n",
        "        s_start = key\n",
        "        if(s_start != 0):\n",
        "            for k,e in elem.items():\n",
        "                s_end = k\n",
        "                sum = 0\n",
        "                if(s_end != s_start):\n",
        "                    comb = list(e)[0]\n",
        "                    for char in comb:\n",
        "                        if(char!='X'):\n",
        "                            sum += int(char)\n",
        "                    if(sum > 1):\n",
        "                        continue\n",
        "                    elif(sum == 1):\n",
        "                        index1 = comb.find('1')\n",
        "                        rho_constr_basic.append(\"s\"+str(s_start)+\" \"+alphabet[index1]+\" s\"+str(s_end))\n",
        "                    elif(sum == 0):\n",
        "                        indeces0 = [i for i in range(len(comb)) if comb[i] in '0']\n",
        "                        res_list = [alphabet[i] for i in indeces0]\n",
        "                        rho_tobe_negated.append([s_start,s_end,res_list])                 \n",
        "\n",
        "\n",
        "    build_automaton[\"all_states\"] = all_states_constr\n",
        "    build_automaton[\"final_states\"] = final_states_constr\n",
        "    build_automaton[\"init_state\"] = init_states_constr\n",
        "    build_automaton[\"transitions\"] = rho_constr_basic\n",
        "    build_automaton[\"symbols_constr\"] = alphabet\n",
        "    build_automaton[\"negated_transitions\"] = rho_tobe_negated\n",
        "\n",
        "    all_automata[\"a\"+str(index)] = build_automaton\n",
        "\n",
        "    index += 1"
      ],
      "outputs": [],
      "metadata": {}
    },
    {
      "cell_type": "markdown",
      "source": [
        "## Load xes file\n",
        "containing the trace"
      ],
      "metadata": {
        "id": "I8Qh6gkJjR6R"
      }
    },
    {
      "cell_type": "code",
      "execution_count": 4,
      "source": [
        "log_path = \"dataset/logs/synthetic-logs/10constraints/1-constraint-inverted/log-from-10constr-model-1constr_inverted-1-50.xes\""
      ],
      "outputs": [],
      "metadata": {
        "id": "Otc3Rvi-2wXS"
      }
    },
    {
      "cell_type": "code",
      "execution_count": 5,
      "source": [
        "alphabet = \"ABCDEFGHIJKLMNOPQRSTUVWXYZ\"\n",
        "voc = {}\n",
        "for i in range(len(alphabet)):\n",
        "    voc[i+1] = alphabet[i]\n",
        "\n",
        "def convertNumberToChar (val):\n",
        "    return voc[val]"
      ],
      "outputs": [],
      "metadata": {}
    },
    {
      "cell_type": "code",
      "execution_count": 6,
      "source": [
        "# Legge dal file .xes, estrapola le tracce, trasforma il valore delle tracce in caratteri,\n",
        "# infine aggiungile al log sottoforma di stringhe\n",
        "def readLog (log_path):\n",
        "    # Inizializzazione variabili\n",
        "    flag = False;           # Indica quando dobbiamo leggere un evento dal file\n",
        "    trace = [];             # Lista di eventi sottoforma di interi\n",
        "    traceChar = [];         # Lista di eventi sottoforma di char\n",
        "    traceString = \"\";       # Stringa composta da eventi sottoforma di char\n",
        "    log = []               # Lista di tracce ognuna delle quali è una stringa di char\n",
        "\n",
        "    # Apriamo il file e leggiamolo riga per riga\n",
        "    f = open  (log_path)\n",
        "    f1 = f.readlines()\n",
        "    \n",
        "    # Per ogni riga del file...\n",
        "    for x in f1:\n",
        "        # Se c'è un evento, attiviamo la flag\n",
        "        if (x.__contains__(\"<event>\")):\n",
        "            flag = True\n",
        "        # Se flag attiva e siamo sulla riga dove è presente il nome dell'evento,\n",
        "        # estrapoliamo il nome dell'evento e appendiamolo a trace\n",
        "        if (flag and x.__contains__('<string key=\"concept:name\"')):\n",
        "            val = x.split('value=\"activity ',1)[1]\n",
        "            val = val.split('\"')[0]                \n",
        "            trace.append(val)\n",
        "            flag = False\n",
        "        # Quando non ci sono più eventi possiamo lavorare sulla traccia in questione\n",
        "        if (x.__contains__(\"</trace>\")):\n",
        "            for event in trace:\n",
        "                traceChar.append(convertNumberToChar(int(event)))  # Converti gli eventi in char \n",
        "            traceString = \"\".join(traceChar)                       # Lista di eventi -> stringa\n",
        "            log.append(traceString)                                # Appendi stringa a log\n",
        "\n",
        "            # Inizializza nuovamente le variabili\n",
        "            trace = []\n",
        "            traceChar = []\n",
        "            traceString = \"\"\n",
        "    return log"
      ],
      "outputs": [],
      "metadata": {
        "id": "944iEX333Q2E"
      }
    },
    {
      "cell_type": "code",
      "execution_count": 7,
      "source": [
        "log = readLog(log_path) # list of traces"
      ],
      "outputs": [],
      "metadata": {
        "colab": {
          "base_uri": "https://localhost:8080/"
        },
        "id": "d7ILjAXH3XzJ",
        "outputId": "6ca28027-ffc9-49c6-a083-e798f5350661"
      }
    },
    {
      "cell_type": "markdown",
      "source": [
        "## Trace automaton"
      ],
      "metadata": {}
    },
    {
      "cell_type": "code",
      "execution_count": 8,
      "source": [
        "#traces_log = log\n",
        "traces_log = [\"ASTABIBLGBDFLBDUGRBGSDIANFBUFNAKLKALALFAGDBSVREUIWILMNZBCCGSKAMBAIWOQJANLAP\"]\n",
        "\n",
        "all_traces = []\n",
        "\n",
        "for t in traces_log:\n",
        "    trace = {}\n",
        "    \n",
        "    symbols_trace = list(set(t))\n",
        "    \n",
        "    ## Build trace automaton ###################################\n",
        "    rho_trace_basic = []\n",
        "    Q_trace = []\n",
        "    for i in range(len(t)):\n",
        "        Q_trace.append('t'+str(i))\n",
        "        rho_trace_basic.append('t'+str(i)+\" \"+t[i] +\" \"+ 't'+str(i+1))\n",
        "\n",
        "    Q_trace.append('t'+str(len(t)))\n",
        "    init_state_trace = Q_trace[0]\n",
        "    final_state_trace = Q_trace[-1]\n",
        "\n",
        "    trace[\"symbols_trace\"] = symbols_trace\n",
        "    trace[\"init_state_trace\"] = init_state_trace\n",
        "    trace[\"final_state_trace\"] = final_state_trace\n",
        "    trace[\"Q_trace\"] = Q_trace\n",
        "    trace[\"rho_trace_basic\"] = rho_trace_basic\n",
        "\n",
        "    all_traces.append(trace)\n",
        "\n",
        "    ## Now we add the transitions for the negated symbols ######\n",
        "\n",
        "    for ID,automaton in all_automata.items():\n",
        "        symb_constr = set(automaton[\"symbols_constr\"])\n",
        "        symb_trace = set(symbols_trace)\n",
        "        all_symbs = list(set.union(symb_constr, symb_trace))\n",
        "\n",
        "        trans = automaton[\"transitions\"]\n",
        "        for t_neg in automaton[\"negated_transitions\"]:\n",
        "            symbs = copy.deepcopy(all_symbs)\n",
        "            for t in t_neg[2]:\n",
        "                symbs.remove(t)\n",
        "            for elem in symbs:\n",
        "                if (\"s\"+str(t_neg[0])+\" \"+elem+\" s\"+str(t_neg[1]) not in trans):\n",
        "                    trans.append(\"s\"+str(t_neg[0])+\" \"+elem+\" s\"+str(t_neg[1]))\n",
        "\n",
        "        automaton[\"transitions\"] = trans"
      ],
      "outputs": [],
      "metadata": {}
    },
    {
      "cell_type": "markdown",
      "source": [
        "## Preliminary steps for PDDL"
      ],
      "metadata": {
        "id": "uQMiCDBijwF_"
      }
    },
    {
      "cell_type": "code",
      "execution_count": 9,
      "source": [
        "import random\n",
        "trace = all_traces[random.randint(0,len(all_traces)-1)]"
      ],
      "outputs": [],
      "metadata": {}
    },
    {
      "cell_type": "code",
      "execution_count": 10,
      "source": [
        "M = 0\n",
        "for ID,a in all_automata.items():\n",
        "    i = len(a['all_states'])\n",
        "    if (i >= M):\n",
        "        M = i\n",
        "        index_max = ID\n",
        "all_states_constr_max = all_automata[index_max]['all_states'] \n",
        "\n",
        "symbols_tot = []\n",
        "for ID,a in all_automata.items():\n",
        "    for s in a[\"symbols_constr\"]:\n",
        "        symbols_tot.append(s)\n",
        "symbols_tot = list(set(symbols_tot).union(set(trace[\"symbols_trace\"])))"
      ],
      "outputs": [],
      "metadata": {}
    },
    {
      "cell_type": "markdown",
      "source": [
        "## Planning domain D"
      ],
      "metadata": {}
    },
    {
      "cell_type": "code",
      "execution_count": 11,
      "source": [
        "domain_name = \"domain_old\"\n",
        "problem_name = \"problem_old\""
      ],
      "outputs": [],
      "metadata": {
        "id": "12YBD3nKhH2Y"
      }
    },
    {
      "cell_type": "code",
      "execution_count": 12,
      "source": [
        "pddl_domain_initial = \"(define (domain \"+domain_name+\") \"\\\n",
        "                \"(:requirements :strips :typing :action-costs) \"\\\n",
        "                \"(:types trace_state automaton_state - state activity automaton_name) \"\n",
        "\n",
        "pddl_domain_predicates = \"(:predicates (trace ?t1 - trace_state \"\\\n",
        "                            \"?e - activity \"\\\n",
        "                            \"?t2 - trace_state) \"\\\n",
        "                            \"(automaton ?a1 - automaton_name \"\\\n",
        "                            \"?s1 - automaton_state \"\\\n",
        "                            \"?e - activity \"\\\n",
        "                            \"?s2 - automaton_state) \"\\\n",
        "                            \"(cur_state ?a1 - automaton_name ?s - state) \"\\\n",
        "                            \"(final_state ?a1 - automaton_name ?s - state)) \"\\\n",
        "                            \"(:functions (total-cost)) \"\n",
        "\n",
        "\n",
        "pddl_domain_actions =  \"(:action sync \"\\\n",
        "                        \":parameters (?t1 - trace_state ?e - activity ?t2 - trace_state ?a1 - automaton_name) \"\\\n",
        "                        \":precondition (and (cur_state ?a1 ?t1) (trace ?t1 ?e ?t2)) \"\\\n",
        "                        \":effect (and (not (cur_state ?a1 ?t1)) (cur_state ?a1 ?t2) \"\\\n",
        "                        \"(forall (?a1 - automaton_name ?s1 ?s2 - automaton_state) \"\\\n",
        "                        \"(when (and (cur_state ?a1 ?s1) \"\\\n",
        "                        \"(automaton ?a1 ?s1 ?e ?s2)) \"\\\n",
        "                        \"(and (not (cur_state ?a1 ?s1)) \"\\\n",
        "                        \"(cur_state ?a1 ?s2)))))) \"\\\n",
        "                        \"(:action add \"\\\n",
        "                        \":parameters (?e - activity ?a1 - automaton_name ?s1 ?s2 - state) \"\\\n",
        "                        \":effect (and (increase (total-cost) 1) \"\\\n",
        "                        \"(forall (?a1 - automaton_name ?s1 ?s2 - automaton_state) \"\\\n",
        "                        \"(when (and (cur_state ?a1 ?s1) \"\\\n",
        "                        \"(automaton ?a1 ?s1 ?e ?s2)) \"\\\n",
        "                        \"(and (not (cur_state ?a1 ?s1)) \"\\\n",
        "                        \"(cur_state ?a1 ?s2)))))) \"\\\n",
        "                        \"(:action del \"\\\n",
        "                        \":parameters (?t1 - trace_state ?e - activity \"\\\n",
        "                        \"?t2 - trace_state ?a1 - automaton_name) \"\\\n",
        "                        \":precondition (and (cur_state ?a1 ?t1) (trace ?t1 ?e ?t2)) \"\\\n",
        "                        \":effect (and (increase (total-cost) 1) \"\\\n",
        "                        \"(not (cur_state ?a1 ?t1)) (cur_state ?a1 ?t2))))\"\n",
        "\n",
        "pddl_domain = pddl_domain_initial + pddl_domain_predicates + pddl_domain_actions\n",
        "\n",
        "print (pddl_domain)"
      ],
      "outputs": [
        {
          "output_type": "stream",
          "name": "stdout",
          "text": [
            "(define (domain domain_old) (:requirements :strips :typing :action-costs) (:types trace_state automaton_state - state activity automaton_name) (:predicates (trace ?t1 - trace_state ?e - activity ?t2 - trace_state) (automaton ?a1 - automaton_name ?s1 - automaton_state ?e - activity ?s2 - automaton_state) (cur_state ?a1 - automaton_name ?s - state) (final_state ?a1 - automaton_name ?s - state)) (:functions (total-cost)) (:action sync :parameters (?t1 - trace_state ?e - activity ?t2 - trace_state ?a1 - automaton_name) :precondition (and (cur_state ?a1 ?t1) (trace ?t1 ?e ?t2)) :effect (and (not (cur_state ?a1 ?t1)) (cur_state ?a1 ?t2) (forall (?a1 - automaton_name ?s1 ?s2 - automaton_state) (when (and (cur_state ?a1 ?s1) (automaton ?a1 ?s1 ?e ?s2)) (and (not (cur_state ?a1 ?s1)) (cur_state ?a1 ?s2)))))) (:action add :parameters (?e - activity ?a1 - automaton_name ?s1 ?s2 - state) :effect (and (increase (total-cost) 1) (forall (?a1 - automaton_name ?s1 ?s2 - automaton_state) (when (and (cur_state ?a1 ?s1) (automaton ?a1 ?s1 ?e ?s2)) (and (not (cur_state ?a1 ?s1)) (cur_state ?a1 ?s2)))))) (:action del :parameters (?t1 - trace_state ?e - activity ?t2 - trace_state ?a1 - automaton_name) :precondition (and (cur_state ?a1 ?t1) (trace ?t1 ?e ?t2)) :effect (and (increase (total-cost) 1) (not (cur_state ?a1 ?t1)) (cur_state ?a1 ?t2))))\n"
          ]
        }
      ],
      "metadata": {
        "colab": {
          "base_uri": "https://localhost:8080/"
        },
        "id": "fq0E10UEQ2KN",
        "outputId": "625d168f-b794-402f-dfc3-6944fe96a730"
      }
    },
    {
      "cell_type": "markdown",
      "source": [
        "## PDDL problem"
      ],
      "metadata": {
        "id": "Gwp1E1FgpgDQ"
      }
    },
    {
      "cell_type": "code",
      "execution_count": 13,
      "source": [
        "pddl_problem_initial = \"(define (problem \"+problem_name+\") (:domain \"+domain_name+\") \"\n",
        "pddl_problem_objects = \"(:objects \"\n",
        "\n",
        "for q in trace[\"Q_trace\"]:\n",
        "    pddl_problem_objects += q+\" \"\n",
        "pddl_problem_objects += \"- trace_state \"\n",
        "\n",
        "\n",
        "for q in all_states_constr_max:\n",
        "    pddl_problem_objects += q+\" \"\n",
        "pddl_problem_objects += \"- automaton_state a0 \"\n",
        "\n",
        "\n",
        "for ID, a in all_automata.items():\n",
        "    pddl_problem_objects += ID+\" \"\n",
        "pddl_problem_objects += \"- automaton_name \"\n",
        "\n",
        "\n",
        "for s in symbols_tot:\n",
        "    pddl_problem_objects += s+\" \"\n",
        "pddl_problem_objects += \"- activity\"\n",
        "\n",
        "pddl_problem_objects += \") \"\n",
        "\n",
        "\n",
        "pddl_problem_init = \"(:init (= (total-cost) 0) (cur_state a0 \"+trace[\"init_state_trace\"]+\") \"\n",
        "for t in trace[\"rho_trace_basic\"]:\n",
        "    pddl_problem_init += \"(trace \"+t+\") \"\n",
        "pddl_problem_init += \"(final_state a0 \"+trace[\"final_state_trace\"]+\") \"\n",
        "\n",
        "for ID, a in all_automata.items():\n",
        "    pddl_problem_init += \"(cur_state \"+ID+\" \"+a[\"init_state\"]+\") \" \n",
        "    for t in a[\"transitions\"]:\n",
        "        pddl_problem_init += \"(automaton \"+ID+\" \"+t+\") \"\n",
        "\n",
        "    for i in range(len(a[\"final_states\"])):\n",
        "        pddl_problem_init += \"(final_state \"+ID+\" \"+a[\"final_states\"][i]+\") \"\n",
        "pddl_problem_init += \") \"\n",
        "\n",
        "\n",
        "pddl_problem_goal = \"(:goal (forall (?a - automaton_name ?s - state) \"\\\n",
        "                    \"(imply (cur_state ?a ?s) (final_state ?a ?s)))) \"\n",
        "pddl_problem_metric = \"(:metric minimize (total-cost)))\"\n",
        "pddl_problem = pddl_problem_initial + pddl_problem_objects + pddl_problem_init + pddl_problem_goal + pddl_problem_metric\n",
        "print (pddl_problem)"
      ],
      "outputs": [
        {
          "output_type": "stream",
          "name": "stdout",
          "text": [
            "(define (problem problem_old) (:domain domain_old) (:objects t0 t1 t2 t3 t4 t5 t6 t7 t8 t9 t10 t11 t12 t13 t14 t15 t16 t17 t18 t19 t20 t21 t22 t23 t24 t25 t26 t27 t28 t29 t30 t31 t32 t33 t34 t35 t36 t37 t38 t39 t40 t41 t42 t43 t44 t45 t46 t47 t48 t49 t50 t51 t52 t53 t54 t55 t56 t57 t58 t59 t60 t61 t62 t63 t64 t65 t66 t67 t68 t69 t70 t71 t72 t73 t74 t75 - trace_state s1 s2 s3 s4 s5 s6 s7 s8 - automaton_state a0 a1 a2 a3 a4 a5 a6 a7 a8 a9 a10 a11 - automaton_name I L A K F D M W G B N Q Z U T V J P R E O S C - activity) (:init (= (total-cost) 0) (cur_state a0 t0) (trace t0 A t1) (trace t1 S t2) (trace t2 T t3) (trace t3 A t4) (trace t4 B t5) (trace t5 I t6) (trace t6 B t7) (trace t7 L t8) (trace t8 G t9) (trace t9 B t10) (trace t10 D t11) (trace t11 F t12) (trace t12 L t13) (trace t13 B t14) (trace t14 D t15) (trace t15 U t16) (trace t16 G t17) (trace t17 R t18) (trace t18 B t19) (trace t19 G t20) (trace t20 S t21) (trace t21 D t22) (trace t22 I t23) (trace t23 A t24) (trace t24 N t25) (trace t25 F t26) (trace t26 B t27) (trace t27 U t28) (trace t28 F t29) (trace t29 N t30) (trace t30 A t31) (trace t31 K t32) (trace t32 L t33) (trace t33 K t34) (trace t34 A t35) (trace t35 L t36) (trace t36 A t37) (trace t37 L t38) (trace t38 F t39) (trace t39 A t40) (trace t40 G t41) (trace t41 D t42) (trace t42 B t43) (trace t43 S t44) (trace t44 V t45) (trace t45 R t46) (trace t46 E t47) (trace t47 U t48) (trace t48 I t49) (trace t49 W t50) (trace t50 I t51) (trace t51 L t52) (trace t52 M t53) (trace t53 N t54) (trace t54 Z t55) (trace t55 B t56) (trace t56 C t57) (trace t57 C t58) (trace t58 G t59) (trace t59 S t60) (trace t60 K t61) (trace t61 A t62) (trace t62 M t63) (trace t63 B t64) (trace t64 A t65) (trace t65 I t66) (trace t66 W t67) (trace t67 O t68) (trace t68 Q t69) (trace t69 J t70) (trace t70 A t71) (trace t71 N t72) (trace t72 L t73) (trace t73 A t74) (trace t74 P t75) (final_state a0 t75) (cur_state a1 s1) (automaton a1 s1 A s2) (final_state a1 s2) (cur_state a2 s1) (automaton a2 s1 B s2) (automaton a2 s2 B s3) (final_state a2 s1) (final_state a2 s2) (cur_state a3 s1) (automaton a3 s1 K s2) (automaton a3 s2 L s1) (final_state a3 s1) (cur_state a4 s1) (automaton a4 s1 J s3) (final_state a4 s1) (final_state a4 s2) (cur_state a5 s1) (automaton a5 s1 N s2) (automaton a5 s2 O s1) (automaton a5 s2 I s3) (automaton a5 s2 L s3) (automaton a5 s2 Z s3) (automaton a5 s2 Q s3) (automaton a5 s2 U s3) (automaton a5 s2 F s3) (automaton a5 s2 A s3) (automaton a5 s2 K s3) (automaton a5 s2 D s3) (automaton a5 s2 M s3) (automaton a5 s2 W s3) (automaton a5 s2 T s3) (automaton a5 s2 J s3) (automaton a5 s2 V s3) (automaton a5 s2 P s3) (automaton a5 s2 R s3) (automaton a5 s2 G s3) (automaton a5 s2 E s3) (automaton a5 s2 S s3) (automaton a5 s2 C s3) (automaton a5 s2 B s3) (final_state a5 s1) (cur_state a6 s1) (automaton a6 s1 P s2) (automaton a6 s1 Q s3) (automaton a6 s2 N s1) (automaton a6 s2 I s1) (automaton a6 s2 L s1) (automaton a6 s2 Q s1) (automaton a6 s2 Z s1) (automaton a6 s2 U s1) (automaton a6 s2 F s1) (automaton a6 s2 A s1) (automaton a6 s2 K s1) (automaton a6 s2 D s1) (automaton a6 s2 M s1) (automaton a6 s2 W s1) (automaton a6 s2 T s1) (automaton a6 s2 J s1) (automaton a6 s2 V s1) (automaton a6 s2 R s1) (automaton a6 s2 G s1) (automaton a6 s2 E s1) (automaton a6 s2 O s1) (automaton a6 s2 S s1) (automaton a6 s2 C s1) (automaton a6 s2 B s1) (final_state a6 s1) (final_state a6 s2) (cur_state a7 s1) (automaton a7 s1 E s3) (automaton a7 s3 F s2) (final_state a7 s1) (final_state a7 s2) (cur_state a8 s1) (automaton a8 s1 T s2) (automaton a8 s1 S s3) (automaton a8 s2 S s4) (automaton a8 s3 T s4) (final_state a8 s1) (final_state a8 s2) (final_state a8 s3) (cur_state a9 s1) (automaton a9 s1 T s2) (automaton a9 s2 U s3) (final_state a9 s1) (final_state a9 s2) (cur_state a10 s1) (automaton a10 s1 V s3) (automaton a10 s1 N s2) (automaton a10 s1 I s2) (automaton a10 s1 L s2) (automaton a10 s1 Z s2) (automaton a10 s1 Q s2) (automaton a10 s1 U s2) (automaton a10 s1 F s2) (automaton a10 s1 A s2) (automaton a10 s1 K s2) (automaton a10 s1 D s2) (automaton a10 s1 M s2) (automaton a10 s1 W s2) (automaton a10 s1 T s2) (automaton a10 s1 J s2) (automaton a10 s1 P s2) (automaton a10 s1 R s2) (automaton a10 s1 G s2) (automaton a10 s1 E s2) (automaton a10 s1 O s2) (automaton a10 s1 S s2) (automaton a10 s1 C s2) (automaton a10 s1 B s2) (automaton a10 s2 N s4) (automaton a10 s2 I s4) (automaton a10 s2 L s4) (automaton a10 s2 Z s4) (automaton a10 s2 Q s4) (automaton a10 s2 U s4) (automaton a10 s2 F s4) (automaton a10 s2 A s4) (automaton a10 s2 K s4) (automaton a10 s2 D s4) (automaton a10 s2 M s4) (automaton a10 s2 T s4) (automaton a10 s2 J s4) (automaton a10 s2 P s4) (automaton a10 s2 R s4) (automaton a10 s2 G s4) (automaton a10 s2 E s4) (automaton a10 s2 O s4) (automaton a10 s2 S s4) (automaton a10 s2 C s4) (automaton a10 s2 B s4) (automaton a10 s3 N s2) (automaton a10 s3 I s2) (automaton a10 s3 L s2) (automaton a10 s3 Z s2) (automaton a10 s3 Q s2) (automaton a10 s3 U s2) (automaton a10 s3 F s2) (automaton a10 s3 A s2) (automaton a10 s3 K s2) (automaton a10 s3 D s2) (automaton a10 s3 M s2) (automaton a10 s3 T s2) (automaton a10 s3 J s2) (automaton a10 s3 P s2) (automaton a10 s3 R s2) (automaton a10 s3 G s2) (automaton a10 s3 E s2) (automaton a10 s3 O s2) (automaton a10 s3 S s2) (automaton a10 s3 C s2) (automaton a10 s3 B s2) (final_state a10 s1) (final_state a10 s3) (cur_state a11 s1) (automaton a11 s1 B s3) (automaton a11 s1 A s5) (automaton a11 s2 B s3) (automaton a11 s2 A s5) (automaton a11 s3 A s7) (automaton a11 s4 A s7) (automaton a11 s5 B s7) (automaton a11 s6 B s7) (automaton a11 s1 N s2) (automaton a11 s1 I s2) (automaton a11 s1 L s2) (automaton a11 s1 Z s2) (automaton a11 s1 Q s2) (automaton a11 s1 U s2) (automaton a11 s1 F s2) (automaton a11 s1 K s2) (automaton a11 s1 D s2) (automaton a11 s1 M s2) (automaton a11 s1 W s2) (automaton a11 s1 T s2) (automaton a11 s1 J s2) (automaton a11 s1 V s2) (automaton a11 s1 P s2) (automaton a11 s1 R s2) (automaton a11 s1 G s2) (automaton a11 s1 E s2) (automaton a11 s1 O s2) (automaton a11 s1 S s2) (automaton a11 s4 N s3) (automaton a11 s4 I s3) (automaton a11 s4 L s3) (automaton a11 s4 Z s3) (automaton a11 s4 Q s3) (automaton a11 s4 U s3) (automaton a11 s4 F s3) (automaton a11 s4 K s3) (automaton a11 s4 D s3) (automaton a11 s4 M s3) (automaton a11 s4 W s3) (automaton a11 s4 T s3) (automaton a11 s4 J s3) (automaton a11 s4 V s3) (automaton a11 s4 P s3) (automaton a11 s4 R s3) (automaton a11 s4 G s3) (automaton a11 s4 E s3) (automaton a11 s4 O s3) (automaton a11 s4 S s3) (automaton a11 s4 B s3) (automaton a11 s6 N s5) (automaton a11 s6 I s5) (automaton a11 s6 L s5) (automaton a11 s6 Z s5) (automaton a11 s6 Q s5) (automaton a11 s6 U s5) (automaton a11 s6 A s5) (automaton a11 s6 F s5) (automaton a11 s6 K s5) (automaton a11 s6 D s5) (automaton a11 s6 M s5) (automaton a11 s6 W s5) (automaton a11 s6 T s5) (automaton a11 s6 J s5) (automaton a11 s6 V s5) (automaton a11 s6 P s5) (automaton a11 s6 R s5) (automaton a11 s6 G s5) (automaton a11 s6 E s5) (automaton a11 s6 O s5) (automaton a11 s6 S s5) (automaton a11 s8 N s7) (automaton a11 s8 I s7) (automaton a11 s8 L s7) (automaton a11 s8 Z s7) (automaton a11 s8 Q s7) (automaton a11 s8 U s7) (automaton a11 s8 A s7) (automaton a11 s8 F s7) (automaton a11 s8 K s7) (automaton a11 s8 D s7) (automaton a11 s8 M s7) (automaton a11 s8 W s7) (automaton a11 s8 T s7) (automaton a11 s8 J s7) (automaton a11 s8 V s7) (automaton a11 s8 P s7) (automaton a11 s8 R s7) (automaton a11 s8 G s7) (automaton a11 s8 E s7) (automaton a11 s8 O s7) (automaton a11 s8 S s7) (automaton a11 s8 B s7) (final_state a11 s1) (final_state a11 s2) (final_state a11 s3) (final_state a11 s4) (final_state a11 s5) (final_state a11 s6) (final_state a11 s8) ) (:goal (forall (?a - automaton_name ?s - state) (imply (cur_state ?a ?s) (final_state ?a ?s)))) (:metric minimize (total-cost)))\n"
          ]
        }
      ],
      "metadata": {
        "id": "lTG7BH12iLmK",
        "colab": {
          "base_uri": "https://localhost:8080/"
        },
        "outputId": "63a819f9-6cf3-4c67-f077-fff54aea700c"
      }
    },
    {
      "cell_type": "markdown",
      "source": [
        "## Save .pddl files"
      ],
      "metadata": {
        "id": "uHrzmm9kfKcO"
      }
    },
    {
      "cell_type": "code",
      "execution_count": 14,
      "source": [
        "file1 = open(\"PDDL/\"+domain_name+\".pddl\", \"w\")\n",
        "file1.write(pddl_domain)\n",
        "file1.close()\n",
        "\n",
        "file2 = open(\"PDDL/\"+problem_name+\".pddl\", \"w\")\n",
        "file2.write(pddl_problem)\n",
        "file2.close()"
      ],
      "outputs": [],
      "metadata": {
        "id": "NTBIHF3dfMMT"
      }
    },
    {
      "cell_type": "markdown",
      "source": [
        "Fast-downward planner:\n",
        "`./fast-downward.py domain_multi.pddl problem_multi.pddl --search \"astar(blind())\"`"
      ],
      "metadata": {}
    }
  ]
}